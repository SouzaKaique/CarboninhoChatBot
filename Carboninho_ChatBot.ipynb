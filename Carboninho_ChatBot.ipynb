{
  "nbformat": 4,
  "nbformat_minor": 0,
  "metadata": {
    "colab": {
      "provenance": []
    },
    "kernelspec": {
      "name": "python3",
      "display_name": "Python 3"
    },
    "language_info": {
      "name": "python"
    }
  },
  "cells": [
    {
      "cell_type": "code",
      "source": [
        "# Instalações necessárias das apis do google para rodar este projeto\n",
        "\n",
        "%pip -q install google-genai\n",
        "!pip install -q google-adk"
      ],
      "metadata": {
        "id": "B2zfSqfdClJv"
      },
      "execution_count": 16,
      "outputs": []
    },
    {
      "cell_type": "code",
      "source": [
        "# Configurar a API Key do Google Gemini\n",
        "\n",
        "import os\n",
        "from google.colab import userdata\n",
        "\n",
        "os.environ[\"GOOGLE_API_KEY\"] = userdata.get('GOOGLE_API_KEY')"
      ],
      "metadata": {
        "id": "vsNPXMTXCxiy"
      },
      "execution_count": 17,
      "outputs": []
    },
    {
      "cell_type": "code",
      "source": [
        "# Configurar o cliente da SDK do Gemini\n",
        "\n",
        "from google import genai\n",
        "\n",
        "client = genai.Client()\n",
        "\n",
        "MODEL_ID = \"gemini-2.0-flash\""
      ],
      "metadata": {
        "id": "yaLdEEajC0jT"
      },
      "execution_count": 18,
      "outputs": []
    },
    {
      "cell_type": "code",
      "source": [
        "# Imports necessários\n",
        "from google.adk.agents import Agent\n",
        "from google.adk.runners import Runner\n",
        "from google.adk.sessions import InMemorySessionService\n",
        "from google.adk.tools import google_search\n",
        "from google.genai import types  # Para criar conteúdos (Content e Part)\n",
        "import textwrap # Para formatar melhor a saída de texto\n",
        "from IPython.display import display, Markdown # Para exibir texto formatado no Colab\n",
        "import requests # Para fazer requisições HTTP\n",
        "import warnings\n",
        "\n",
        "warnings.filterwarnings(\"ignore\")"
      ],
      "metadata": {
        "id": "E3bo8RSvC3vN"
      },
      "execution_count": 47,
      "outputs": []
    },
    {
      "cell_type": "code",
      "source": [
        "# 🧪 Carboninho - Assistente Virtual de Química\n",
        "print(\"🧬 Oi! Sou o Carboninho, seu assistente virtual de laboratório químico! 👨‍🔬🔬\")\n",
        "print(\"\\n\")\n",
        "\n",
        "# --- Funções auxiliares ---\n",
        "from IPython.display import Markdown\n",
        "import textwrap\n",
        "\n",
        "def to_markdown(text):\n",
        "    text = text.replace('•', '  *')\n",
        "    text = text.replace(\"## \", \"### \")\n",
        "    text = text.replace(\"# \", \"## \")\n",
        "    return Markdown(textwrap.indent(text, '> ', predicate=lambda _: True))\n",
        "\n",
        "def call_agent(agent, message_text):\n",
        "    session_service = InMemorySessionService()\n",
        "    session = session_service.create_session(app_name=agent.name, user_id=\"user1\", session_id=\"session1\")\n",
        "    runner = Runner(agent=agent, app_name=agent.name, session_service=session_service)\n",
        "    content = types.Content(role=\"user\", parts=[types.Part(text=message_text)])\n",
        "\n",
        "    final_response = \"\"\n",
        "    for event in runner.run(user_id=\"user1\", session_id=\"session1\", new_message=content):\n",
        "        if event.is_final_response():\n",
        "            for part in event.content.parts:\n",
        "                if part.text:\n",
        "                    final_response += part.text + \"\\n\"\n",
        "    return f\"## 🧪 Resultado do Carboninho\\n\\n{final_response.strip()}\"\n",
        "\n",
        "# --- Definição dos agentes ---\n",
        "\n",
        "def agente_busca_quimica(pergunta):\n",
        "    agente = Agent(\n",
        "        name=\"agente_busca_quimica\",\n",
        "        model=\"gemini-2.0-flash\",\n",
        "        instruction=f\"\"\"\n",
        "        Você é um especialista em química. Use o google_search para buscar informações detalhadas e precisas sobre:\n",
        "        '{pergunta}'. Foque em propriedades, reações, mecanismos, aplicações, etc.\n",
        "        \"\"\",\n",
        "        description=\"Agente que busca informações químicas no Google\",\n",
        "        tools=[google_search]\n",
        "    )\n",
        "    return call_agent(agente, f\"🔍 Buscar informações sobre: {pergunta}\")\n",
        "\n",
        "def agente_explica_conceito(conceito):\n",
        "    agente = Agent(\n",
        "        name=\"agente_explica_conceito\",\n",
        "        model=\"gemini-2.0-flash\",\n",
        "        instruction=f\"\"\"\n",
        "        Você é um professor de química. Explique o conceito '{conceito}' de forma clara, com exemplos do cotidiano se possível.\n",
        "        \"\"\",\n",
        "        description=\"Agente explicador de conceitos químicos\",\n",
        "        tools=[]\n",
        "    )\n",
        "    return call_agent(agente, f\"📘 Explicar conceito: {conceito}\")\n",
        "\n",
        "def agente_planeja_experimento_virtual(objetivo, nivel):\n",
        "    agente = Agent(\n",
        "        name=\"agente_planeja_experimento_virtual\",\n",
        "        model=\"gemini-2.0-flash\",\n",
        "        instruction=f\"\"\"\n",
        "        Você é um especialista em laboratório virtual. Ajude um estudante de nível '{nivel}' a planejar um experimento virtual\n",
        "        com objetivo '{objetivo}'. Sugira simuladores, passo a passo e cuidados de segurança.\n",
        "        \"\"\",\n",
        "        description=\"Planejador de experimentos virtuais de química\",\n",
        "        tools=[google_search]\n",
        "    )\n",
        "    return call_agent(agente, f\"🧪 Planejar experimento: objetivo={objetivo}, nível={nivel}\")\n",
        "\n",
        "def agente_calcula_quimica():\n",
        "    return Agent(\n",
        "        name=\"agente_calcula_quimica\",\n",
        "        model=\"gemini-2.0-flash\",\n",
        "        instruction=\"\"\"\n",
        "        Você resolve cálculos químicos: molaridade, pH, estequiometria, etc. Gere código Python comentado para resolver.\n",
        "        Peça mais dados se necessário.\n",
        "        \"\"\",\n",
        "        description=\"Calculadora de química com código Python\",\n",
        "        tools=[]\n",
        "    )\n",
        "\n",
        "def agente_seguranca_laboratorio(pergunta, composto=None, procedimento=None):\n",
        "    agente = Agent(\n",
        "        name=\"agente_seguranca_laboratorio\",\n",
        "        model=\"gemini-2.0-flash\",\n",
        "        instruction=f\"\"\"\n",
        "        Especialista em segurança de laboratório. Responda à pergunta '{pergunta}' com foco em segurança.\n",
        "        Inclua informações sobre '{composto}' e '{procedimento}' se fornecidos.\n",
        "        Liste EPIs, riscos e ações de emergência.\n",
        "        \"\"\",\n",
        "        description=\"Agente de segurança de laboratório químico\",\n",
        "        tools=[google_search]\n",
        "    )\n",
        "    entrada = f\"🔐 {pergunta}\"\n",
        "    if composto:\n",
        "        entrada += f\"\\n🧪 Composto: {composto}\"\n",
        "    if procedimento:\n",
        "        entrada += f\"\\n🧫 Procedimento: {procedimento}\"\n",
        "    return call_agent(agente, entrada)\n",
        "\n",
        "def agente_resumo_final(nome_usuario, interacoes):\n",
        "    agente = Agent(\n",
        "        name=\"agente_resumo_final\",\n",
        "        model=\"gemini-2.0-flash\",\n",
        "        instruction=f\"\"\"\n",
        "        Você é um assistente educacional que vai gerar um resumo final da sessão para o usuário '{nome_usuario}'.\n",
        "        Com base nas interações registradas abaixo, gere um texto que:\n",
        "        - Recapitule os principais tópicos abordados;\n",
        "        - Destaque aprendizados ou respostas recebidas;\n",
        "        - Sugira próximos passos ou tópicos relacionados para estudo futuro.\n",
        "        Utilize emojis educativos e estrutura de tópicos.\n",
        "        \"\"\",\n",
        "        description=\"Resumo final da sessão com dicas e revisão de conteúdo\",\n",
        "        tools=[]\n",
        "    )\n",
        "    entrada = f\"📘 Interações da sessão:\\n{interacoes}\"\n",
        "    return call_agent(agente, entrada)\n",
        "\n",
        "def calcular(agente, pergunta):\n",
        "    return call_agent(agente, f\"🧮 Pergunta de cálculo: {pergunta}\")\n",
        "\n",
        "# --- Fluxo principal ---\n",
        "\n",
        "def run_carboninho():\n",
        "    nome = input(\"Informe seu nome: \").strip()\n",
        "    interacoes_usuario = \"\"\n",
        "\n",
        "    while True:\n",
        "        print()  # linha em branco para espaçar\n",
        "        nivel = input(\"📊 Nível de conhecimento em química (iniciante/médio/avançado) ou 'sair': \").lower().strip()\n",
        "        if nivel == \"sair\":\n",
        "            print(f\"\\n🔬 Encerramento: Foi ótimo conversar com você, {nome}! Até a próxima! 👋\")\n",
        "            break\n",
        "\n",
        "        objetivo = input(\"\\n🎯 Qual o seu objetivo principal hoje? \").strip()\n",
        "\n",
        "        while True:\n",
        "            pergunta = input(\"\\n💬 Faça sua pergunta sobre química (ou digite 'sair' para encerrar): \").strip()\n",
        "            if pergunta.lower() == \"sair\":\n",
        "                print(f\"\\n📚 Resumo da sessão com {nome}:\\n\")\n",
        "                resumo = agente_resumo_final(nome, interacoes_usuario)\n",
        "                display(to_markdown(resumo))\n",
        "                print(f\"\\n🔬 Foi ótimo conversar com você, {nome}! Até a próxima! 👋\")\n",
        "                return\n",
        "\n",
        "            p = pergunta.lower()\n",
        "            if any(x in p for x in [\"calcular\", \"cálculo\", \"molaridade\", \"estequiometria\", \"ph\"]):\n",
        "                resposta = calcular(agente_calcula_quimica(), pergunta)\n",
        "            elif any(x in p for x in [\"segurança\", \"epi\", \"risco\", \"precaução\", \"emergência\"]):\n",
        "                resposta = agente_seguranca_laboratorio(pergunta)\n",
        "            elif any(x in p for x in [\"experimento\", \"laboratório virtual\", \"simulação\", \"planejar experimento\"]):\n",
        "                resposta = agente_planeja_experimento_virtual(objetivo, nivel)\n",
        "            elif any(x in p for x in [\"explicar\", \"conceito\", \"definição\", \"o que é\", \"como funciona\"]):\n",
        "                resposta = agente_explica_conceito(pergunta)\n",
        "            else:\n",
        "                resposta = agente_busca_quimica(pergunta)\n",
        "\n",
        "            interacoes_usuario += f\"\\n🔎 Pergunta: {pergunta}\\n📥 Resposta: {resposta}\\n\"\n",
        "            display(to_markdown(resposta))\n",
        "\n",
        "# --- Execução ---\n",
        "if __name__ == \"__main__\":\n",
        "    run_carboninho()"
      ],
      "metadata": {
        "colab": {
          "base_uri": "https://localhost:8080/",
          "height": 1000
        },
        "id": "aIft15IZRUhm",
        "outputId": "67b302b6-001a-4c0c-ef83-4bdb7330fb5f"
      },
      "execution_count": 53,
      "outputs": [
        {
          "name": "stdout",
          "output_type": "stream",
          "text": [
            "🧬 Oi! Sou o Carboninho, seu assistente virtual de laboratório químico! 👨‍🔬🔬\n",
            "\n",
            "\n",
            "Informe seu nome: Kaique\n",
            "\n",
            "📊 Nível de conhecimento em química (iniciante/médio/avançado) ou 'sair': iniciante\n",
            "\n",
            "🎯 Qual o seu objetivo principal hoje? aprendizado técnico\n",
            "\n",
            "💬 Faça sua pergunta sobre química (ou digite 'sair' para encerrar): como realizar uma titulação?\n"
          ]
        },
        {
          "output_type": "display_data",
          "data": {
            "text/plain": [
              "<IPython.core.display.Markdown object>"
            ],
            "text/markdown": "> #### 🧪 Resultado do Carboninho\n> \n> Para fornecer informações detalhadas sobre como realizar uma titulação, podemos explorar os seguintes aspectos:\n> \n>  *  **O que é uma titulação e seus princípios básicos?** Qual a reação química envolvida e como ela é utilizada para determinar a concentração de uma solução desconhecida?\n>  *  **Quais são os tipos de titulação existentes?** Titulação ácido-base, redox, complexométrica, precipitação, etc. Quais as diferenças e aplicações de cada uma?\n>  *  **Quais são os materiais e equipamentos necessários?** Bureta, erlenmeyer, pipeta, balão volumétrico, indicador, agitador magnético, etc. Como preparar e calibrar esses materiais?\n>  *  **Como escolher o indicador correto?** Qual a faixa de pH em que o indicador muda de cor e como isso se relaciona com o ponto de equivalência da titulação?\n>  *  **Como realizar o procedimento experimental passo a passo?** Preparação das soluções, montagem do sistema de titulação, adição do titulante, observação da mudança de cor do indicador, leitura do volume gasto, etc.\n>  *  **Como calcular a concentração da solução desconhecida?** Utilização da estequiometria da reação e do volume gasto do titulante para determinar a concentração.\n>  *  **Quais são os erros comuns em titulações e como evitá-los?** Erros de leitura, erros de calibração, erros na preparação das soluções, etc.\n>  *  **Quais são as aplicações da titulação em diferentes áreas?** Química, biologia, medicina, alimentos, meio ambiente, etc.\n> \n>  \n> A titulação é uma técnica de laboratório quantitativa utilizada para determinar a concentração desconhecida de uma substância (analito) em uma solução. O procedimento envolve a adição controlada de um reagente de concentração conhecida (titulante) que reage estequiometricamente com o analito. A titulação é finalizada quando a reação entre o titulante e o analito é completa, o que é sinalizado por uma mudança observável, como a mudança de cor de um indicador.\n> \n>  ##### Tipos de Titulação:\n>  *  **Ácido-base (Neutralização):** Determina a concentração de ácidos ou bases usando a reação de neutralização. O ponto final é indicado por um indicador de pH. Exemplo: Determinação da concentração de ácido clorídrico com hidróxido de sódio.\n>  *  **Redox (Oxidação-redução):** Envolve reações de transferência de elétrons entre o titulante e o analito. Exemplo: Determinação da concentração de vitamina C.\n>  *  **Complexométrica:** Baseia-se na formação de complexos entre íons metálicos e um agente complexante, como o EDTA. Exemplo: Determinação da dureza da água medindo íons de cálcio e magnésio.\n>  *  **Precipitação:** O titulante reage com o analito formando um precipitado insolúvel. Exemplo: Determinação de cloreto por titulação com nitrato de prata.\n> \n>  ##### Materiais e Equipamentos Necessários:\n>  *   **Bureta:** Tubo de vidro graduado com uma torneira para dispensar o titulante de forma controlada.\n>  *   **Erlenmeyer:** Frasco para conter o analito e permitir a mistura durante a titulação.\n>  *   **Pipeta:** Utilizada para medir volumes precisos do analito.\n>  *   **Béquer:** Usado para preparar e transferir soluções.\n>  *   **Suporte Universal e Garra:** Para fixar e manter a bureta na posição vertical.\n>  *   **Agitador Magnético:** Garante a mistura homogênea da solução durante a titulação.\n>  *   **Indicador:** Substância que muda de cor para indicar o ponto final da titulação.\n>  *   **Soluções:**\n>  *   **Titulante:** Solução de concentração conhecida.\n>  *  **Analito (Titulado):** Solução de concentração desconhecida.\n>  *   **Padrão Primário:** Substância de alta pureza utilizada para padronizar o titulante.\n> \n>  ##### Procedimento Experimental:\n>  1. **Preparação das soluções:** Preparar o titulante com concentração conhecida e dissolver o analito em um solvente adequado.\n>  2. **Montagem:** Fixar a bureta no suporte universal e posicionar o erlenmeyer com o analito sob a bureta.\n>  3. **Adição do indicador:** Adicionar algumas gotas do indicador apropriado ao analito no erlenmeyer.\n>  4. **Titulação:** Abrir a torneira da bureta e adicionar o titulante lentamente ao analito, agitando continuamente o erlenmeyer.\n>  5. **Ponto final:** Observar a mudança de cor do indicador e fechar a torneira quando a mudança de cor persistir, indicando o ponto final da titulação.\n>  6. **Leitura:** Registrar o volume de titulante gasto na bureta.\n>  7. **Repetição:** Repetir o processo para obter resultados consistentes e precisos.\n> \n>  ##### Escolha do Indicador:\n>  *   O indicador deve mudar de cor próximo ao ponto de equivalência da titulação.\n>  *   A faixa de pH de transição do indicador deve corresponder à variação brusca de pH que ocorre na titulação.\n>  *   Exemplos de indicadores comuns incluem fenolftaleína (incolor em meio ácido, rosa em meio básico) e alaranjado de metila (vermelho em meio ácido, amarelo em meio básico).\n> \n>  ##### Cálculos na Titulação:\n>  1. **Equacionar a reação:** Escrever a equação química balanceada da reação entre o titulante e o analito.\n>  2. **Calcular os mols do titulante:** Utilizar a concentração e o volume do titulante para calcular o número de mols.\n>  3. **Determinar os mols do analito:** Usar a estequiometria da reação para determinar o número de mols do analito.\n>  4. **Calcular a concentração do analito:** Dividir o número de mols do analito pelo volume da solução do analito.\n> \n>  ##### Erros Comuns e Como Evitá-los:\n>  *  **Erro de paralaxe:** Ler o volume na bureta no nível correto dos olhos.\n>  *   **Bolhas na bureta:** Eliminar bolhas de ar na bureta antes de iniciar a titulação.\n>  *   **Indicador inadequado:** Escolher um indicador com faixa de viragem apropriada para a titulação.\n>  *   **Não agitar:** Agitar continuamente a solução durante a titulação para garantir a homogeneidade.\n>  *   **Calibração:** Verificar a calibração dos equipamentos volumétricos.\n>  *  **Pureza dos reagentes:** Utilizar reagentes com pureza conhecida.\n> \n>  ##### Aplicações da Titulação:\n>  *   **Química:** Determinação da concentração de soluções ácidas e básicas.\n>  *   **Alimentos:** Análise da acidez em alimentos e bebidas.\n>  *   **Farmacêutica:** Quantificação de princípios ativos em medicamentos.\n>  *   **Ambiental:** Monitoramento da qualidade da água, determinando a concentração de poluentes.\n>  *   **Clínica:** Análise de componentes em amostras biológicas.\n> \n>  ##### Vantagens da Titulação:\n>  *   **Simplicidade:** Técnica fácil de executar e entender.\n>  *   **Custo-benefício:** Requer equipamentos de laboratório básicos.\n>  *   **Precisão:** Resultados precisos quando realizada corretamente.\n>  *   **Versatilidade:** Aplicável em diversas áreas e tipos de amostras."
          },
          "metadata": {}
        },
        {
          "output_type": "stream",
          "name": "stdout",
          "text": [
            "\n",
            "💬 Faça sua pergunta sobre química (ou digite 'sair' para encerrar): sair\n",
            "\n",
            "📚 Resumo da sessão com Kaique:\n",
            "\n"
          ]
        },
        {
          "output_type": "display_data",
          "data": {
            "text/plain": [
              "<IPython.core.display.Markdown object>"
            ],
            "text/markdown": "> #### 🧪 Resultado do Carboninho\n> \n> 👋 Olá, Kaique! Aqui está um resumo da nossa sessão sobre titulação:\n> \n> **Tópicos Abordados:**\n> *   🧪 O que é titulação e seus princípios básicos.\n> *   ⚗️ Tipos de titulação (ácido-base, redox, complexométrica, precipitação).\n> *   🔬 Materiais e equipamentos necessários (bureta, erlenmeyer, pipeta, etc.).\n> *   🌈 Como escolher o indicador correto.\n> *   📝 Procedimento experimental passo a passo.\n> *   🧮 Cálculos para determinar a concentração da solução desconhecida.\n> *   ⚠️ Erros comuns e como evitá-los.\n> *    Aplicações da titulação em diversas áreas.\n> \n> **Próximos Passos:**\n> *   📚 Explore mais sobre os diferentes tipos de titulação e suas aplicações específicas.\n> *   🔍 Aprofunde-se nos cálculos estequiométricos envolvidos na titulação.\n> *   👩‍🔬 Considere realizar experimentos práticos de titulação para consolidar o aprendizado."
          },
          "metadata": {}
        },
        {
          "output_type": "stream",
          "name": "stdout",
          "text": [
            "\n",
            "🔬 Foi ótimo conversar com você, Kaique! Até a próxima! 👋\n"
          ]
        }
      ]
    }
  ]
}